{
  "nbformat": 4,
  "nbformat_minor": 0,
  "metadata": {
    "colab": {
      "name": "Hyper Parameter Optimization.ipynb",
      "provenance": [],
      "authorship_tag": "ABX9TyOJnbgKa29C2tE9nvpz2dNT"
    },
    "kernelspec": {
      "name": "python3",
      "display_name": "Python 3"
    }
  },
  "cells": [
    {
      "cell_type": "markdown",
      "metadata": {
        "id": "Go53qIIBWzGB",
        "colab_type": "text"
      },
      "source": [
        "# Life cycle of a Data Science \n",
        "\n",
        "1) Feature Engineering .\n",
        "\n",
        "2) Feature Selection.\n",
        "\n",
        "3) Model Creation.\n",
        "\n",
        "4) Hyperparamter Tuning ( Random Forest Classifier is being used here in this session ) "
      ]
    },
    {
      "cell_type": "markdown",
      "metadata": {
        "id": "DeLws9y2X0S-",
        "colab_type": "text"
      },
      "source": [
        "Why is Hyper Parameter tuning required ?\n",
        "\n",
        "ans) The parameters should be selected based on the dataset we have instead of using the by default parameters provided in the regressor or classifier(Model) ,so that we can get the best model for our dataset"
      ]
    },
    {
      "cell_type": "markdown",
      "metadata": {
        "id": "VXcstGslT0lI",
        "colab_type": "text"
      },
      "source": [
        "# All Techniques Of Hyper Parameter Optimization.\n",
        "\n",
        "1) GridSearchCV.\n",
        "\n",
        "2) RandomizedSearchCV.\n",
        "\n",
        "3) Bayesian Optimization -Automate Hyperparameter Tuning (Hyperopt).\n",
        "\n",
        "4) Sequential Model Based Optimization(Tuning a scikit-learn estimator with   skopt).\n",
        "\n",
        "5) Optuna- Automate Hyperparameter Tuning.\n",
        "\n",
        "6) Genetic Algorithms (TPOT Classifier).\n",
        "\n",
        "References.\n",
        "https://github.com/fmfn/BayesianOptimization\n",
        "\n",
        "https://github.com/hyperopt/hyperopt\n",
        "\n",
        "https://www.jeremyjordan.me/hyperparameter-tuning/\n",
        "\n",
        "https://optuna.org/\n",
        "\n",
        "https://towardsdatascience.com/hyperparameters-optimization-526348bb8e2d(By Pier Paolo I"
      ]
    },
    {
      "cell_type": "code",
      "metadata": {
        "id": "qnf7DhmVSBAG",
        "colab_type": "code",
        "colab": {}
      },
      "source": [
        "import warnings\n",
        "warnings.filterwarnings('ignore')"
      ],
      "execution_count": null,
      "outputs": []
    },
    {
      "cell_type": "code",
      "metadata": {
        "id": "r_kZGabYWgS4",
        "colab_type": "code",
        "colab": {
          "base_uri": "https://localhost:8080/",
          "height": 204
        },
        "outputId": "dc8da3d6-907e-4f9d-d4c0-ad7ba1796b82"
      },
      "source": [
        "import pandas as pd\n",
        "df=pd.read_csv('diabetes.csv')\n",
        "df.head()"
      ],
      "execution_count": null,
      "outputs": [
        {
          "output_type": "execute_result",
          "data": {
            "text/html": [
              "<div>\n",
              "<style scoped>\n",
              "    .dataframe tbody tr th:only-of-type {\n",
              "        vertical-align: middle;\n",
              "    }\n",
              "\n",
              "    .dataframe tbody tr th {\n",
              "        vertical-align: top;\n",
              "    }\n",
              "\n",
              "    .dataframe thead th {\n",
              "        text-align: right;\n",
              "    }\n",
              "</style>\n",
              "<table border=\"1\" class=\"dataframe\">\n",
              "  <thead>\n",
              "    <tr style=\"text-align: right;\">\n",
              "      <th></th>\n",
              "      <th>Pregnancies</th>\n",
              "      <th>Glucose</th>\n",
              "      <th>BloodPressure</th>\n",
              "      <th>SkinThickness</th>\n",
              "      <th>Insulin</th>\n",
              "      <th>BMI</th>\n",
              "      <th>DiabetesPedigreeFunction</th>\n",
              "      <th>Age</th>\n",
              "      <th>Outcome</th>\n",
              "    </tr>\n",
              "  </thead>\n",
              "  <tbody>\n",
              "    <tr>\n",
              "      <th>0</th>\n",
              "      <td>6</td>\n",
              "      <td>148</td>\n",
              "      <td>72</td>\n",
              "      <td>35</td>\n",
              "      <td>0</td>\n",
              "      <td>33.6</td>\n",
              "      <td>0.627</td>\n",
              "      <td>50</td>\n",
              "      <td>1</td>\n",
              "    </tr>\n",
              "    <tr>\n",
              "      <th>1</th>\n",
              "      <td>1</td>\n",
              "      <td>85</td>\n",
              "      <td>66</td>\n",
              "      <td>29</td>\n",
              "      <td>0</td>\n",
              "      <td>26.6</td>\n",
              "      <td>0.351</td>\n",
              "      <td>31</td>\n",
              "      <td>0</td>\n",
              "    </tr>\n",
              "    <tr>\n",
              "      <th>2</th>\n",
              "      <td>8</td>\n",
              "      <td>183</td>\n",
              "      <td>64</td>\n",
              "      <td>0</td>\n",
              "      <td>0</td>\n",
              "      <td>23.3</td>\n",
              "      <td>0.672</td>\n",
              "      <td>32</td>\n",
              "      <td>1</td>\n",
              "    </tr>\n",
              "    <tr>\n",
              "      <th>3</th>\n",
              "      <td>1</td>\n",
              "      <td>89</td>\n",
              "      <td>66</td>\n",
              "      <td>23</td>\n",
              "      <td>94</td>\n",
              "      <td>28.1</td>\n",
              "      <td>0.167</td>\n",
              "      <td>21</td>\n",
              "      <td>0</td>\n",
              "    </tr>\n",
              "    <tr>\n",
              "      <th>4</th>\n",
              "      <td>0</td>\n",
              "      <td>137</td>\n",
              "      <td>40</td>\n",
              "      <td>35</td>\n",
              "      <td>168</td>\n",
              "      <td>43.1</td>\n",
              "      <td>2.288</td>\n",
              "      <td>33</td>\n",
              "      <td>1</td>\n",
              "    </tr>\n",
              "  </tbody>\n",
              "</table>\n",
              "</div>"
            ],
            "text/plain": [
              "   Pregnancies  Glucose  BloodPressure  ...  DiabetesPedigreeFunction  Age  Outcome\n",
              "0            6      148             72  ...                     0.627   50        1\n",
              "1            1       85             66  ...                     0.351   31        0\n",
              "2            8      183             64  ...                     0.672   32        1\n",
              "3            1       89             66  ...                     0.167   21        0\n",
              "4            0      137             40  ...                     2.288   33        1\n",
              "\n",
              "[5 rows x 9 columns]"
            ]
          },
          "metadata": {
            "tags": []
          },
          "execution_count": 2
        }
      ]
    },
    {
      "cell_type": "code",
      "metadata": {
        "id": "71lYnBjdafDf",
        "colab_type": "code",
        "colab": {
          "base_uri": "https://localhost:8080/",
          "height": 204
        },
        "outputId": "b3ad84c5-733a-4945-cbb0-6658044dd950"
      },
      "source": [
        "# here we have few zero values in glucose,insulin and glucose,insulin,SkinThickness cant be zero hence replacing it with median\n",
        "import numpy as np\n",
        "df[\"Glucose\"]=np.where(df[\"Glucose\"]==0,df[\"Glucose\"].median(),df[\"Glucose\"])\n",
        "df[\"Insulin\"]=np.where(df[\"Insulin\"]==0,df[\"Insulin\"].median(),df[\"Insulin\"])\n",
        "df[\"SkinThickness\"]=np.where(df[\"SkinThickness\"]==0,df[\"SkinThickness\"].median(),df[\"SkinThickness\"])\n",
        "df.head()"
      ],
      "execution_count": null,
      "outputs": [
        {
          "output_type": "execute_result",
          "data": {
            "text/html": [
              "<div>\n",
              "<style scoped>\n",
              "    .dataframe tbody tr th:only-of-type {\n",
              "        vertical-align: middle;\n",
              "    }\n",
              "\n",
              "    .dataframe tbody tr th {\n",
              "        vertical-align: top;\n",
              "    }\n",
              "\n",
              "    .dataframe thead th {\n",
              "        text-align: right;\n",
              "    }\n",
              "</style>\n",
              "<table border=\"1\" class=\"dataframe\">\n",
              "  <thead>\n",
              "    <tr style=\"text-align: right;\">\n",
              "      <th></th>\n",
              "      <th>Pregnancies</th>\n",
              "      <th>Glucose</th>\n",
              "      <th>BloodPressure</th>\n",
              "      <th>SkinThickness</th>\n",
              "      <th>Insulin</th>\n",
              "      <th>BMI</th>\n",
              "      <th>DiabetesPedigreeFunction</th>\n",
              "      <th>Age</th>\n",
              "      <th>Outcome</th>\n",
              "    </tr>\n",
              "  </thead>\n",
              "  <tbody>\n",
              "    <tr>\n",
              "      <th>0</th>\n",
              "      <td>6</td>\n",
              "      <td>148.0</td>\n",
              "      <td>72</td>\n",
              "      <td>35.0</td>\n",
              "      <td>30.5</td>\n",
              "      <td>33.6</td>\n",
              "      <td>0.627</td>\n",
              "      <td>50</td>\n",
              "      <td>1</td>\n",
              "    </tr>\n",
              "    <tr>\n",
              "      <th>1</th>\n",
              "      <td>1</td>\n",
              "      <td>85.0</td>\n",
              "      <td>66</td>\n",
              "      <td>29.0</td>\n",
              "      <td>30.5</td>\n",
              "      <td>26.6</td>\n",
              "      <td>0.351</td>\n",
              "      <td>31</td>\n",
              "      <td>0</td>\n",
              "    </tr>\n",
              "    <tr>\n",
              "      <th>2</th>\n",
              "      <td>8</td>\n",
              "      <td>183.0</td>\n",
              "      <td>64</td>\n",
              "      <td>23.0</td>\n",
              "      <td>30.5</td>\n",
              "      <td>23.3</td>\n",
              "      <td>0.672</td>\n",
              "      <td>32</td>\n",
              "      <td>1</td>\n",
              "    </tr>\n",
              "    <tr>\n",
              "      <th>3</th>\n",
              "      <td>1</td>\n",
              "      <td>89.0</td>\n",
              "      <td>66</td>\n",
              "      <td>23.0</td>\n",
              "      <td>94.0</td>\n",
              "      <td>28.1</td>\n",
              "      <td>0.167</td>\n",
              "      <td>21</td>\n",
              "      <td>0</td>\n",
              "    </tr>\n",
              "    <tr>\n",
              "      <th>4</th>\n",
              "      <td>0</td>\n",
              "      <td>137.0</td>\n",
              "      <td>40</td>\n",
              "      <td>35.0</td>\n",
              "      <td>168.0</td>\n",
              "      <td>43.1</td>\n",
              "      <td>2.288</td>\n",
              "      <td>33</td>\n",
              "      <td>1</td>\n",
              "    </tr>\n",
              "  </tbody>\n",
              "</table>\n",
              "</div>"
            ],
            "text/plain": [
              "   Pregnancies  Glucose  BloodPressure  ...  DiabetesPedigreeFunction  Age  Outcome\n",
              "0            6    148.0             72  ...                     0.627   50        1\n",
              "1            1     85.0             66  ...                     0.351   31        0\n",
              "2            8    183.0             64  ...                     0.672   32        1\n",
              "3            1     89.0             66  ...                     0.167   21        0\n",
              "4            0    137.0             40  ...                     2.288   33        1\n",
              "\n",
              "[5 rows x 9 columns]"
            ]
          },
          "metadata": {
            "tags": []
          },
          "execution_count": 7
        }
      ]
    },
    {
      "cell_type": "code",
      "metadata": {
        "id": "-TSkqV0MbTMV",
        "colab_type": "code",
        "colab": {}
      },
      "source": [
        "# Independent and Dependent features\n",
        "\n",
        "X=df.drop(\"Outcome\",axis=1)\n",
        "Y=df[\"Outcome\"]"
      ],
      "execution_count": null,
      "outputs": []
    },
    {
      "cell_type": "code",
      "metadata": {
        "id": "1R52EgHibl4v",
        "colab_type": "code",
        "colab": {}
      },
      "source": [
        "# Train Test Split\n",
        "from sklearn.model_selection import train_test_split\n",
        "X_train,X_test,y_train,y_test=train_test_split(X,Y,test_size=0.20,random_state=33)"
      ],
      "execution_count": null,
      "outputs": []
    },
    {
      "cell_type": "code",
      "metadata": {
        "id": "-0xkVkWldkGh",
        "colab_type": "code",
        "colab": {}
      },
      "source": [
        "from sklearn.ensemble import RandomForestClassifier\n",
        "# here we have used 10 decision trees--n_estimators=10\n",
        "rf_classifier=RandomForestClassifier(n_estimators=10).fit(X_train,y_train)\n",
        "prediction=rf_classifier.predict(X_test)"
      ],
      "execution_count": null,
      "outputs": []
    },
    {
      "cell_type": "code",
      "metadata": {
        "id": "3dEG05RYePLy",
        "colab_type": "code",
        "colab": {
          "base_uri": "https://localhost:8080/",
          "height": 68
        },
        "outputId": "65966659-3b43-40ad-826e-deb08535dfb7"
      },
      "source": [
        "Y.value_counts()"
      ],
      "execution_count": null,
      "outputs": [
        {
          "output_type": "execute_result",
          "data": {
            "text/plain": [
              "0    500\n",
              "1    268\n",
              "Name: Outcome, dtype: int64"
            ]
          },
          "metadata": {
            "tags": []
          },
          "execution_count": 14
        }
      ]
    },
    {
      "cell_type": "code",
      "metadata": {
        "id": "wgt-cyNceTZf",
        "colab_type": "code",
        "colab": {
          "base_uri": "https://localhost:8080/",
          "height": 221
        },
        "outputId": "ac023a8f-8b3f-42e2-af39-e003e0ef8690"
      },
      "source": [
        "from sklearn.metrics import confusion_matrix,classification_report,accuracy_score\n",
        "print(confusion_matrix(y_test,prediction))\n",
        "print(accuracy_score(y_test,prediction))\n",
        "print(classification_report(y_test,prediction))\n",
        "\n",
        "# here we are getting accuray -0.6948051948051948 "
      ],
      "execution_count": null,
      "outputs": [
        {
          "output_type": "stream",
          "text": [
            "[[85 14]\n",
            " [33 22]]\n",
            "0.6948051948051948\n",
            "              precision    recall  f1-score   support\n",
            "\n",
            "           0       0.72      0.86      0.78        99\n",
            "           1       0.61      0.40      0.48        55\n",
            "\n",
            "    accuracy                           0.69       154\n",
            "   macro avg       0.67      0.63      0.63       154\n",
            "weighted avg       0.68      0.69      0.68       154\n",
            "\n"
          ],
          "name": "stdout"
        }
      ]
    },
    {
      "cell_type": "markdown",
      "metadata": {
        "id": "d0037QL4fJ4B",
        "colab_type": "text"
      },
      "source": [
        "The main parameters used by a Random Forest Classifier are:\n",
        "\n",
        "1) criterion = the function used to evaluate the quality of a split.\n",
        "\n",
        "2) max_depth = maximum number of levels allowed in each tree.\n",
        "\n",
        "3) max_features = maximum number of features considered when splitting a node.\n",
        "\n",
        "4) min_samples_leaf = minimum number of samples which can be stored in a tree leaf.\n",
        "\n",
        "5) min_samples_split = minimum number of samples necessary in a node to cause node splitting.\n",
        "\n",
        "6) n_estimators = number of trees in the ensamble."
      ]
    },
    {
      "cell_type": "code",
      "metadata": {
        "id": "9sdLHt1Ve8BM",
        "colab_type": "code",
        "colab": {
          "base_uri": "https://localhost:8080/",
          "height": 221
        },
        "outputId": "0edcc5c8-09e5-4697-c445-3cb4ba0b6d6c"
      },
      "source": [
        "# Lets do manual Hyperparamtere tuning , which means we are putting any values for the parameter of our wish just to check\n",
        "model=RandomForestClassifier(n_estimators=300,criterion='entropy',\n",
        "                             max_features='sqrt',min_samples_leaf=10,random_state=100).fit(X_train,y_train)\n",
        "predictions=model.predict(X_test)\n",
        "print(confusion_matrix(y_test,predictions))\n",
        "print(accuracy_score(y_test,predictions))\n",
        "print(classification_report(y_test,predictions))"
      ],
      "execution_count": null,
      "outputs": [
        {
          "output_type": "stream",
          "text": [
            "[[87 12]\n",
            " [28 27]]\n",
            "0.7402597402597403\n",
            "              precision    recall  f1-score   support\n",
            "\n",
            "           0       0.76      0.88      0.81        99\n",
            "           1       0.69      0.49      0.57        55\n",
            "\n",
            "    accuracy                           0.74       154\n",
            "   macro avg       0.72      0.68      0.69       154\n",
            "weighted avg       0.73      0.74      0.73       154\n",
            "\n"
          ],
          "name": "stdout"
        }
      ]
    },
    {
      "cell_type": "markdown",
      "metadata": {
        "id": "AT2f19CigSAn",
        "colab_type": "text"
      },
      "source": [
        "which Hyperparameter tuning we shoud use first? ------------- Randomized CV , because it narrow down our Results after that we should apply Grid Search which will check thorouly ."
      ]
    },
    {
      "cell_type": "markdown",
      "metadata": {
        "id": "jfyTD55rhMDF",
        "colab_type": "text"
      },
      "source": [
        "*Technique 1 : Randomized Search CV*"
      ]
    },
    {
      "cell_type": "code",
      "metadata": {
        "id": "Bone-YBfhLE6",
        "colab_type": "code",
        "colab": {
          "base_uri": "https://localhost:8080/",
          "height": 54
        },
        "outputId": "d7b17690-bdb2-48fd-ff3a-5955a082dcbf"
      },
      "source": [
        "import numpy as np\n",
        "from sklearn.model_selection import RandomizedSearchCV\n",
        "# Number of trees in random forest\n",
        "n_estimators = [int(x) for x in np.linspace(start = 200, stop = 2000, num = 10)]\n",
        "# Number of features to consider at every split\n",
        "max_features = ['auto', 'sqrt','log2']\n",
        "# Maximum number of levels in tree\n",
        "max_depth = [int(x) for x in np.linspace(10, 1000,10)]\n",
        "# Minimum number of samples required to split a node\n",
        "min_samples_split = [2, 5, 10,14]\n",
        "# Minimum number of samples required at each leaf node\n",
        "min_samples_leaf = [1, 2, 4,6,8]\n",
        "# Create the random grid\n",
        "random_grid = {'n_estimators': n_estimators,\n",
        "               'max_features': max_features,\n",
        "               'max_depth': max_depth,\n",
        "               'min_samples_split': min_samples_split,\n",
        "               'min_samples_leaf': min_samples_leaf,\n",
        "              'criterion':['entropy','gini']}\n",
        "print(random_grid)"
      ],
      "execution_count": null,
      "outputs": [
        {
          "output_type": "stream",
          "text": [
            "{'n_estimators': [200, 400, 600, 800, 1000, 1200, 1400, 1600, 1800, 2000], 'max_features': ['auto', 'sqrt', 'log2'], 'max_depth': [10, 120, 230, 340, 450, 560, 670, 780, 890, 1000], 'min_samples_split': [2, 5, 10, 14], 'min_samples_leaf': [1, 2, 4, 6, 8], 'criterion': ['entropy', 'gini']}\n"
          ],
          "name": "stdout"
        }
      ]
    },
    {
      "cell_type": "code",
      "metadata": {
        "id": "SCp5-sN9gRGE",
        "colab_type": "code",
        "colab": {
          "base_uri": "https://localhost:8080/",
          "height": 85
        },
        "outputId": "52e1e3ca-b3e4-4d70-de84-1e83173f3161"
      },
      "source": [
        "rf=RandomForestClassifier()\n",
        "rf_randomcv=RandomizedSearchCV(estimator=rf,param_distributions=random_grid,n_iter=100,cv=3,verbose=2,\n",
        "                               random_state=100,n_jobs=-1)\n",
        "### fit the randomized model\n",
        "rf_randomcv.fit(X_train,y_train)"
      ],
      "execution_count": null,
      "outputs": [
        {
          "output_type": "stream",
          "text": [
            "Fitting 3 folds for each of 100 candidates, totalling 300 fits\n"
          ],
          "name": "stdout"
        },
        {
          "output_type": "stream",
          "text": [
            "[Parallel(n_jobs=-1)]: Using backend LokyBackend with 2 concurrent workers.\n",
            "[Parallel(n_jobs=-1)]: Done  37 tasks      | elapsed:  1.0min\n",
            "[Parallel(n_jobs=-1)]: Done 158 tasks      | elapsed:  4.3min\n"
          ],
          "name": "stderr"
        }
      ]
    }
  ]
}